{
 "cells": [
  {
   "cell_type": "markdown",
   "metadata": {},
   "source": [
    "## Properties file for declaring all global configuration variables"
   ]
  },
  {
   "cell_type": "code",
   "execution_count": 6,
   "metadata": {},
   "outputs": [],
   "source": [
    "privateKeyFilePath = 'aws-dap_server.pem'\n",
    "localListeningMongoPort = 9999\n",
    "localListeningPostgresPort = 63333\n",
    "remoteDbServerIp = 'ec2-108-128-209-156.eu-west-1.compute.amazonaws.com'\n",
    "localHost = '127.0.0.1'\n",
    "mongoRemoteServerPort = 27017\n",
    "postgresRemoteServerPort = 5432\n",
    "mongoDbName = 'dap'\n",
    "postgresDbName = 'dap'\n",
    "postgresUsername = 'postgres'\n",
    "postgresPasssword = 'root'\n",
    "postgresUsername = 'postgres'\n",
    "postgresPasssword = 'root'\n",
    "mongoUsername = 'dap'\n",
    "mongoPassword = 'dap'\n",
    "remoteEc2Username = 'ubuntu'\n",
    "remoteEc2Password = 'root'\n",
    "databaseName = 'dap'\n",
    "weatherTableName = 'City_Weather'\n",
    "cityTableName = 'City_Population'\n",
    "airQualityTableName = 'Forecast_Air_Quality'\n",
    "resultantTableName = 'City_Weather_AirQuality'"
   ]
  }
 ],
 "metadata": {
  "kernelspec": {
   "display_name": "Python 3",
   "language": "python",
   "name": "python3"
  },
  "language_info": {
   "codemirror_mode": {
    "name": "ipython",
    "version": 3
   },
   "file_extension": ".py",
   "mimetype": "text/x-python",
   "name": "python",
   "nbconvert_exporter": "python",
   "pygments_lexer": "ipython3",
   "version": "3.8.5"
  }
 },
 "nbformat": 4,
 "nbformat_minor": 4
}
