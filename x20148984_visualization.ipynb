{
 "cells": [
  {
   "cell_type": "markdown",
   "metadata": {},
   "source": [
    "# Visualization"
   ]
  },
  {
   "cell_type": "markdown",
   "metadata": {},
   "source": [
    "### Import Libraries"
   ]
  },
  {
   "cell_type": "code",
   "execution_count": null,
   "metadata": {},
   "outputs": [],
   "source": [
    "import pandas as pd\n",
    "import seaborn as sns\n",
    "import matplotlib.pyplot as plt\n",
    "import seaborn as sns\n",
    "from sqlalchemy import create_engine\n",
    "from sklearn import preprocessing"
   ]
  },
  {
   "cell_type": "markdown",
   "metadata": {},
   "source": [
    "##### Variable Initialize"
   ]
  },
  {
   "cell_type": "code",
   "execution_count": null,
   "metadata": {},
   "outputs": [],
   "source": [
    "#Table Name\n",
    "table_name =resultantTableName\n",
    "result_df = pd.DataFrame()"
   ]
  },
  {
   "cell_type": "markdown",
   "metadata": {},
   "source": [
    "##### Fetching the Resultant Data from Postfresql"
   ]
  },
  {
   "cell_type": "code",
   "execution_count": null,
   "metadata": {},
   "outputs": [],
   "source": [
    "try:\n",
    "    # Create instance\n",
    "    engine   = postgresEngine\n",
    "\n",
    "    #Reading the data from Postgresql\n",
    "    result_df = pd.read_sql(\"select * from \\\"\"+table_name+\"\\\" \",engine);\n",
    "\n",
    "except Exception as e:\n",
    "    print('Error:\\n',e)"
   ]
  },
  {
   "cell_type": "markdown",
   "metadata": {},
   "source": [
    "##### Air Quality Index based on Continents"
   ]
  },
  {
   "cell_type": "markdown",
   "metadata": {},
   "source": [
    "## Which continent has the worst Air Quality Index based on the countries in the continent with a population density of more than 150,000?"
   ]
  },
  {
   "cell_type": "code",
   "execution_count": null,
   "metadata": {
    "scrolled": true
   },
   "outputs": [],
   "source": [
    "sns.set(style='dark')\n",
    "fig, axs = plt.subplots(ncols=6)\n",
    "#Querying the records based on the continents for the visualization\n",
    "Europe = result_df.query(\"continent_name == 'Europe'\")\n",
    "Asia = result_df.query(\"continent_name == 'Asia'\")\n",
    "North_America = result_df.query(\"continent_name == 'North America'\")\n",
    "Africa = result_df.query('continent_name == \"Africa\"')\n",
    "South_America = result_df.query('continent_name == \"South America\"')\n",
    "oceania = result_df.query('continent_name == \"Oceania\"')\n",
    "\n",
    "#Visualization based on the Continents for the Air Quality and Countries.\n",
    "sns.barplot(x=\"Air_Quality_Index\", y=\"country_name\", data=Europe, ci=100,ax =axs[0])\n",
    "sns.barplot(x=\"Air_Quality_Index\", y=\"country_name\", data=Asia, ci=100,ax =axs[1])\n",
    "sns.barplot(x=\"Air_Quality_Index\", y=\"country_name\", data=North_America, ci=100,ax =axs[2])\n",
    "sns.barplot(x=\"Air_Quality_Index\", y=\"country_name\", data=South_America, ci=100,ax =axs[3])\n",
    "sns.barplot(x=\"Air_Quality_Index\", y=\"country_name\", data=oceania, ci=100,ax =axs[4])\n",
    "sns.barplot(x=\"Air_Quality_Index\", y=\"country_name\", data=Africa, ci=100,ax =axs[5])\n",
    "\n",
    "fig = plt.gcf()\n",
    "fig.set_size_inches(50, 30)\n",
    "\n",
    "plt.suptitle('Continents based Air Quality Index',fontsize=25, size=25)\n",
    "plt.subplots_adjust(top=.925)\n",
    "plt.show()\n"
   ]
  },
  {
   "cell_type": "markdown",
   "metadata": {},
   "source": [
    "## Which gases play a significant role in the degradation of the air quality of a place?"
   ]
  },
  {
   "cell_type": "code",
   "execution_count": null,
   "metadata": {},
   "outputs": [],
   "source": [
    "factors=result_df.loc[:,('Air_Quality_Index','Carbon_Monoxide','Nitrogen_Monoxide','Nitrogen_dioxide','Sulphur_dioxide','Ozone','Fine_Particles_matter','Coarse_particulate_Matter','Ammonia')]\n",
    "#Normalizing the Data in the range 0 to 1\n",
    "scaler = preprocessing.MinMaxScaler()\n",
    "names = factors.columns\n",
    "factors.fit= scaler.fit_transform(factors)\n",
    "scaledfactors_df = pd.DataFrame(factors.fit, columns=names)\n",
    "#Cluster heatmap for Correlation between the Pollutants\n",
    "graphPlot = sns.clustermap(scaledfactors_df.corr(),cmap=\"YlGnBu\")\n",
    "graphPlot.fig.suptitle(\"HeatMap For Pollutants\", fontsize =20)\n",
    "graphPlot.fig.tight_layout()\n",
    "graphPlot.fig.subplots_adjust(top=0.95)\n"
   ]
  },
  {
   "cell_type": "markdown",
   "metadata": {},
   "source": [
    "## What are the average levels of most toxic gases for each of the continents"
   ]
  },
  {
   "cell_type": "code",
   "execution_count": null,
   "metadata": {},
   "outputs": [],
   "source": [
    "continents = result_df.loc[:,(\"continent_name\",'country_name','Carbon_Monoxide','Nitrogen_dioxide','Nitrogen_Monoxide','Sulphur_dioxide')]\n",
    "continents=continents.groupby(['continent_name']).mean().reset_index()\n",
    "# Set up the matplotlib figure\n",
    "f, (ax1, ax2, ax3,ax4) = plt.subplots(4, 1, figsize=(10, 10), sharex=True)\n",
    "plt.title(\"Pollutant levels based on Continents\", fontsize =20, y=5)\n",
    "\n",
    "# Carbon Monoxide\n",
    "sns.barplot(x=\"continent_name\", y=\"Carbon_Monoxide\", palette=\"rocket\", ax=ax1,data=continents)\n",
    "ax1.axhline(0, color=\"k\", clip_on=False)\n",
    "ax1.set_ylabel(\"Carbon_Monoxide\")\n",
    "\n",
    "# Sulphur_dioxide\n",
    "sns.barplot(x=\"continent_name\", y=\"Sulphur_dioxide\", palette=\"vlag\", ax=ax2,data=continents)\n",
    "ax2.axhline(0, color=\"k\", clip_on=False)\n",
    "ax2.set_ylabel(\"Sulphur_dioxide\")\n",
    "\n",
    "# Nitrogen Monoxide\n",
    "sns.barplot(x=\"continent_name\", y=\"Nitrogen_Monoxide\", palette=\"deep\", ax=ax3,data=continents)\n",
    "ax3.axhline(0, color=\"k\", clip_on=False)\n",
    "ax3.set_ylabel(\"Nitrogen_Monoxide\")\n",
    "\n",
    "# Nitrogen dioxide\n",
    "sns.barplot(x=\"continent_name\", y=\"Nitrogen_dioxide\", palette=\"deep\", ax=ax4,data=continents)\n",
    "ax4.axhline(0, color=\"k\", clip_on=False)\n",
    "ax4.set_ylabel(\"Nitrogen_dioxide\")\n",
    "\n",
    "# Finalize the plot\n",
    "sns.despine(bottom=True)\n",
    "plt.setp(f.axes, yticks=[])\n",
    "# plt.tight_layout(h_pad=2)\n",
    "plt.tight_layout()\n",
    "           "
   ]
  },
  {
   "cell_type": "markdown",
   "metadata": {},
   "source": [
    "## Weather Type Co-relation Across Fine Particles Matter vs Coarse Particulate_Matter vs Humidity vs Pressure"
   ]
  },
  {
   "cell_type": "code",
   "execution_count": null,
   "metadata": {},
   "outputs": [],
   "source": [
    "newDf = result_df[['Fine_Particles_matter','Coarse_particulate_Matter','pressure', 'weather_title']]\n",
    "graphPlot = sns.pairplot(newDf, hue='weather_title', palette='inferno')\n",
    "graphPlot.fig.suptitle(\"Weather Type Co-relation Across Fine Particles Matter vs Coarse Particulate_Matter vs Humidity vs Pressure\")\n",
    "# graphPlot.fig.tight_layout()\n",
    "graphPlot.fig.subplots_adjust(top=0.95)"
   ]
  },
  {
   "attachments": {},
   "cell_type": "markdown",
   "metadata": {},
   "source": [
    "## Does high windspeed increase the density of fine particles?"
   ]
  },
  {
   "cell_type": "code",
   "execution_count": null,
   "metadata": {},
   "outputs": [],
   "source": [
    "graphPlot=sns.jointplot(x=\"Fine_Particles_matter\", y=\"wind_speed\", kind=\"kde\", color=\"#4CB391\",data=result_df)\n",
    "graphPlot.fig.suptitle(\"Correlation between Fine_Particles_matter & wind_speed\", fontsize =20)\n",
    "graphPlot.fig.tight_layout()\n",
    "graphPlot.fig.subplots_adjust(top=0.90)"
   ]
  }
 ],
 "metadata": {
  "kernelspec": {
   "display_name": "Python 3",
   "language": "python",
   "name": "python3"
  },
  "language_info": {
   "codemirror_mode": {
    "name": "ipython",
    "version": 3
   },
   "file_extension": ".py",
   "mimetype": "text/x-python",
   "name": "python",
   "nbconvert_exporter": "python",
   "pygments_lexer": "ipython3",
   "version": "3.8.5"
  }
 },
 "nbformat": 4,
 "nbformat_minor": 4
}
