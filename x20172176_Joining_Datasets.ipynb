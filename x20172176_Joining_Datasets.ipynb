{
 "cells": [
  {
   "cell_type": "markdown",
   "metadata": {},
   "source": [
    "<font color='red'><h1>Obtaining data from PostgreSQL and loading them as Dataframes</h1></font>"
   ]
  },
  {
   "cell_type": "code",
   "execution_count": 1,
   "metadata": {},
   "outputs": [],
   "source": [
    "import pandas as pds\n",
    "from sqlalchemy import create_engine\n",
    "import psycopg2\n",
    "import pandas.io.sql \n",
    "from tqdm import tqdm\n",
    "\n",
    "#list of global variables\n",
    "client=None\n",
    "dbName=None\n",
    "collectionName=None\n",
    " \n"
   ]
  },
  {
   "cell_type": "code",
   "execution_count": 2,
   "metadata": {},
   "outputs": [],
   "source": [
    "def createDataFramefromTbl(tableName,engine):\n",
    "    df=None\n",
    "    connection=None\n",
    "    try:\n",
    "        # Create an engine instance\n",
    "       \n",
    "        # Connect to PostgreSQL server\n",
    "        connection = engine.connect()\n",
    "        df= pds.read_sql(\"select * from \\\"\"+tableName+\"\\\" \", connection);\n",
    "    except Exception as e:\n",
    "        print('Exception in createDataFramefromTbl----->\\n',e)\n",
    "    finally:\n",
    "        if connection is not None:\n",
    "            connection.close()\n",
    "    return df\n",
    "    \n",
    "\n",
    "\n",
    "   \n",
    "   \n",
    "    \n",
    "\n"
   ]
  },
  {
   "cell_type": "markdown",
   "metadata": {},
   "source": [
    "<font color='red'><h1>Performing Transformation on Dataframe 2 to perform aggregation</h1></font>"
   ]
  },
  {
   "cell_type": "code",
   "execution_count": 3,
   "metadata": {},
   "outputs": [],
   "source": [
    "#grouping the data in dataframe 2 using groupby and performing aggregation through Mean\n",
    "def dataframe2Agg(df2):\n",
    "    dataFrame2_gb_agg=df2.groupby(['name','cityId']).agg({\"Air_Quality_Index\":\"mean\",\n",
    "             \"Carbon_Monoxide\":\"mean\",\n",
    "            \"Nitrogen_Monoxide\":\"mean\",\n",
    "            \"Nitrogen_dioxide\":\"mean\",\n",
    "            \"Ozone\":\"mean\",\n",
    "            \"Sulphur_dioxide\":\"mean\",\n",
    "            \"Fine_Particles_matter\":\"mean\",\n",
    "            \"Coarse_particulate_Matter\":\"mean\",\n",
    "            \"Ammonia\":\"mean\"})\n",
    "    return dataFrame2_gb_agg\n"
   ]
  },
  {
   "cell_type": "markdown",
   "metadata": {},
   "source": [
    "<font color='red'><h1>Performing Transformation on Dataframe 3 to perform aggregation</h1></font>"
   ]
  },
  {
   "cell_type": "code",
   "execution_count": 18,
   "metadata": {},
   "outputs": [],
   "source": [
    "#grouping the data in dataframe 2 using groupby and performing aggregation through Mean\n",
    "def dataframe3Agg(df3):\n",
    "    dataFrame3_gb_agg=df3.groupby(['city_id']).agg({\"clouds\":\"mean\",\n",
    "             \"dew_point\":\"mean\",\n",
    "            \"feels_like\":\"mean\",\n",
    "            \"humidity\":\"mean\",\n",
    "            \"pressure\":\"mean\",\n",
    "            \"sunrise\":\"mean\",\n",
    "            \"sunset\":\"mean\",\n",
    "            \"temperature\":\"mean\",\n",
    "            \"uvi\":\"mean\",\n",
    "            \"wind_deg\":\"mean\",\n",
    "            \"wind_speed\":\"mean\",\n",
    "            \"weather_title\": lambda x: pd.Series.mode(x).iat[0],\n",
    "            \"pop\": \"mean\"\n",
    "           })\n",
    "    return dataFrame3_gb_agg\n",
    "\n"
   ]
  },
  {
   "cell_type": "markdown",
   "metadata": {},
   "source": [
    "<font color='red'><h1>Joining aggregated Dataframe2 and aggregated Dataframe3 through City ID and Date</h1></font>"
   ]
  },
  {
   "cell_type": "code",
   "execution_count": 9,
   "metadata": {},
   "outputs": [],
   "source": [
    "def join2_3(dataFrame2_gb_agg,dataFrame3_gb_agg):\n",
    "    dataFrame2_3_agg = pds.merge(dataFrame2_gb_agg, dataFrame3_gb_agg,  how='left', left_on = ['city_id'] ,right_on=['cityId'])\n",
    "\n",
    "    #df_dummy=dataFrame4.head()\n",
    "    #dataFrame4.to_csv(\"D:\\\\MSC_DAD\\\\Sem1\\\\Database and Analytics Program\\\\Project\\\\Joined_Data.csv\")\n",
    "    #print('Join operation has been performed')\n",
    "    return dataFrame2_3_agg"
   ]
  },
  {
   "cell_type": "markdown",
   "metadata": {},
   "source": [
    "<font color='red'><h1>Joining dataframe 1 and Aggregated Dataset of Dataframes 2 and 3  based on City ID </h1></font>"
   ]
  },
  {
   "cell_type": "code",
   "execution_count": 5,
   "metadata": {},
   "outputs": [],
   "source": [
    "def joinFinal(dataFrame1,dataFrame2_3_agg):    \n",
    "    dataFrame_final = pds.merge(dataFrame1, dataFrame2_3_agg,  how='left', left_on = ['city_id'] ,right_on=['cityId'])\n",
    "    #dataFrame5.to_csv(\"D:\\\\MSC_DAD\\\\Sem1\\\\Database and Analytics Program\\\\Project\\\\Joined_Data_1.csv\")\n",
    "    print('Join operation has been performed')\n",
    "    return dataFrame_final"
   ]
  },
  {
   "cell_type": "markdown",
   "metadata": {},
   "source": [
    "<font color='red'><h1>Joining dataframes 2 and 3 based on City ID and Dates</h1></font>"
   ]
  },
  {
   "cell_type": "code",
   "execution_count": 6,
   "metadata": {},
   "outputs": [],
   "source": [
    "def normalJoin_2_3(dataFrame2,dataFrame3):\n",
    "    dataFrame4 = pds.merge(dataFrame2, dataFrame3,  how='left', left_on = ['date','cityId'] ,right_on=['date','city_id'])\n",
    "    #df_dummy=dataFrame4.head()\n",
    "    #dataFrame4.to_csv(\"D:\\\\MSC_DAD\\\\Sem1\\\\Database and Analytics Program\\\\Project\\\\Joined_Data.csv\")\n",
    "    print('normalJoin_2_3->Join  operation has been performed')\n",
    "    return dataFrame4"
   ]
  },
  {
   "cell_type": "markdown",
   "metadata": {},
   "source": [
    "<font color='red'><h1>Joining dataframes 1 and 4 based on City ID </h1></font>"
   ]
  },
  {
   "cell_type": "code",
   "execution_count": 7,
   "metadata": {},
   "outputs": [],
   "source": [
    "def normalJoin_1_4(dataFrame1,dataFrame4):\n",
    "    dataFrame5 = pds.merge(dataFrame1, dataFrame4,  how='left', left_on = ['city_id'] ,right_on=['cityId'])\n",
    "    #dataFrame5.to_csv(\"D:\\\\MSC_DAD\\\\Sem1\\\\Database and Analytics Program\\\\Project\\\\Joined_Data_1.csv\")\n",
    "    print('normalJoin_1_4->Join operation has been performed')\n",
    "    return dataFrame5"
   ]
  },
  {
   "cell_type": "markdown",
   "metadata": {},
   "source": [
    "<font color='red'><h1>Transforming Dataframe 5 [Dataset created by joining dataset1,2 ,3 on City ID and Date] to achieve single row entry for each city  </h1></font>"
   ]
  },
  {
   "cell_type": "code",
   "execution_count": 19,
   "metadata": {},
   "outputs": [],
   "source": [
    "def singleRowTranform(df):\n",
    "    cityIds = df['city_id'].unique()\n",
    "    count = 0\n",
    "    list=[]\n",
    "    keys = ['clouds',  'weather_desc', 'dew_point', 'feels_like', 'humidity', 'weather_code', 'weather_title', 'pressure', 'sunrise', 'sunset', 'temperature', 'uvi', 'wind_deg', 'wind_speed']\n",
    "    resultant_df = pd.DataFrame()\n",
    "    for cityId in cityIds:\n",
    "        #if count == 5:\n",
    "         #   break\n",
    "        count += 1\n",
    "        columns = df.loc[df['city_id'] == cityId]\n",
    "        print('columns', len(columns))\n",
    "        consolidatedObject = {}\n",
    "        for index, j in columns.iteritems():\n",
    "            print('j', j)\n",
    "            for key in keys:\n",
    "                consolidatedObject['day' + str(index + 1) + '.' + key ] = j[key]\n",
    "                consolidatedObject['city_id'] = j['city_id']\n",
    "        list.append(consolidatedObject)\n",
    "        print('Row added to dataframe in singleRowTranform')\n",
    "    resultant_df = pd.DataFrame(list)\n",
    "    return resultant_df\n",
    "#singleRowTranform(dataFrame4)"
   ]
  },
  {
   "cell_type": "markdown",
   "metadata": {},
   "source": [
    "<font color='red'><h1>Joining Datframe constructed using aggregation with Datframe constructed by simple join and transformation to achieve single entry per city  </h1></font>"
   ]
  },
  {
   "cell_type": "code",
   "execution_count": 9,
   "metadata": {},
   "outputs": [],
   "source": [
    "def mainJoin(resultant_df,dataFrame_final):\n",
    "    exportdf = pds.merge(resultant_df, dataFrame_final,  how='left', left_on = ['city_id'] ,right_on=['cityId'])\n",
    "    print('mainJoin->Join operation has been performed')\n",
    "    return exportdf"
   ]
  },
  {
   "cell_type": "markdown",
   "metadata": {},
   "source": [
    "<font color='red'><h1>Exporting the Resultant Dataset to Postgres</h1></font>"
   ]
  },
  {
   "cell_type": "code",
   "execution_count": 11,
   "metadata": {},
   "outputs": [],
   "source": [
    "def exporttoPostgres(df,engine):\n",
    "    try:\n",
    "\n",
    "        \n",
    "        print('Engine object is-->',engine)\n",
    "        connection = engine.connect()\n",
    "        df.to_sql(resultantTableName, engine,if_exists='replace',method='multi')\n",
    "        \n",
    "\n",
    "\n",
    "    except Exception as e:\n",
    "        print('Exception when connecting to Amazon RDS->',e)\n",
    "\n",
    "\n",
    "    print('Table created sucessfully in PostgreSQL')"
   ]
  },
  {
   "cell_type": "markdown",
   "metadata": {},
   "source": [
    "<font color='red'><h1>Main function  for the file</h1></font>"
   ]
  },
  {
   "cell_type": "code",
   "execution_count": 16,
   "metadata": {},
   "outputs": [],
   "source": [
    "\n",
    "\n",
    "def x20172176_Joining_Datasets_main(engine):\n",
    "\n",
    "    global dataFrame2_gb_agg, dataFrame3_gb_agg\n",
    "\n",
    "    try:\n",
    "        tableName1= cityTableName\n",
    "        dataFrame1=createDataFramefromTbl(tableName1,engine)\n",
    "\n",
    "        tableName2=airQualityTableName\n",
    "        dataFrame2=createDataFramefromTbl(tableName2,engine)\n",
    "\n",
    "        tableName3=weatherTableName\n",
    "        dataFrame3=createDataFramefromTbl(tableName3,engine)\n",
    "        print('All 3 DataFrames loaded sucessfully------------------>')  \n",
    "\n",
    "        #grouping the data in dataframe 2 using groupby and performing aggregation through Mean\n",
    "        dataFrame2_gb_agg=dataframe2Agg(dataFrame2)\n",
    "        dataFrame2_gb_agg\n",
    "\n",
    "        print('Aggregated dataframe2 created------------------>')\n",
    "\n",
    "        #grouping the data in dataframe 3 using groupby and performing aggregation through Mean\n",
    "        dataFrame3_gb_agg=dataframe3Agg(dataFrame3)\n",
    "        dataFrame3_gb_agg\n",
    "\n",
    "        print('Aggregated dataframe3 created------------------>')\n",
    "        #changing the index for the newly created dataframes\n",
    "        dataFrame2_gb_agg = dataFrame2_gb_agg.reset_index()\n",
    "        dataFrame3_gb_agg = dataFrame3_gb_agg.reset_index()\n",
    "\n",
    "        dataFrame2_3_agg = join2_3(dataFrame3_gb_agg, dataFrame2_gb_agg)\n",
    "        dataFrame_final=joinFinal(dataFrame1,dataFrame2_3_agg)\n",
    "        dataFrame_final\n",
    "\n",
    "        print('Final Datframe created------------------>')\n",
    "\n",
    "        dataFrame_final.drop('city_id_y', inplace=True, axis=1)\n",
    "        dataFrame_final.drop('city_id_x', inplace=True, axis=1)\n",
    "        dataFrame_final.drop('object_id', inplace=True, axis=1)\n",
    "\n",
    "        exporttoPostgres(dataFrame_final,engine)\n",
    "        print('Join Operation completed------------------>')\n",
    "    except Exception as e:\n",
    "        print('Error while performing joins')\n",
    "    \n",
    "    \n",
    "    "
   ]
  },
  {
   "cell_type": "code",
   "execution_count": null,
   "metadata": {},
   "outputs": [],
   "source": [
    "\n"
   ]
  }
 ],
 "metadata": {
  "kernelspec": {
   "display_name": "Python 3",
   "language": "python",
   "name": "python3"
  },
  "language_info": {
   "codemirror_mode": {
    "name": "ipython",
    "version": 3
   },
   "file_extension": ".py",
   "mimetype": "text/x-python",
   "name": "python",
   "nbconvert_exporter": "python",
   "pygments_lexer": "ipython3",
   "version": "3.8.5"
  }
 },
 "nbformat": 4,
 "nbformat_minor": 4
}
