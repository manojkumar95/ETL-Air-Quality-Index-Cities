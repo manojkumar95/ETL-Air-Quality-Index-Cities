{
 "cells": [
  {
   "cell_type": "code",
   "execution_count": null,
   "metadata": {},
   "outputs": [],
   "source": [
    "import pandas as pd\n",
    "import seaborn as sns\n",
    "import matplotlib.pyplot as plot\n",
    "import matplotlib\n",
    "import chart_studio.plotly as py\n",
    "import plotly.graph_objs as go \n",
    "from plotly.offline import download_plotlyjs, init_notebook_mode, plot, iplot\n",
    "import pycountry\n",
    "import plotly.graph_objects as go"
   ]
  },
  {
   "cell_type": "code",
   "execution_count": null,
   "metadata": {},
   "outputs": [],
   "source": [
    "def getDataFrameFromTable(tableName):\n",
    "    df = pd.DataFrame()\n",
    "    connection=None\n",
    "    try:\n",
    "        # Create an engine instance\n",
    "        engine = postgresEngine\n",
    "        # Connect to PostgreSQL server\n",
    "        connection = engine.connect()\n",
    "        df= pd.read_sql(\"select * from \\\"\"+tableName+\"\\\" \", connection);\n",
    "    except Exception as e:\n",
    "        print('Exception in createDataFramefromTbl----->\\n',e)\n",
    "    finally:\n",
    "        if connection is not None:\n",
    "            connection.close()\n",
    "    return df"
   ]
  },
  {
   "cell_type": "code",
   "execution_count": null,
   "metadata": {},
   "outputs": [],
   "source": [
    "resultantDf = getDataFrameFromTable(resultantTableName)"
   ]
  },
  {
   "cell_type": "code",
   "execution_count": null,
   "metadata": {},
   "outputs": [],
   "source": [
    "groupByCountryDf = resultantDf.loc[:,(\"population\", \"continent_name\",'country_name','Air_Quality_Index','Carbon_Monoxide','Nitrogen_dioxide','Ozone','Fine_Particles_matter','Coarse_particulate_Matter','temperature','humidity', 'pressure')]\n",
    "groupByCountryDf=groupByCountryDf.groupby(['country_name']).mean().reset_index()\n",
    "groupByCountryDf\n"
   ]
  },
  {
   "cell_type": "code",
   "execution_count": null,
   "metadata": {},
   "outputs": [],
   "source": [
    "groupByContinentDf = resultantDf.loc[:,(\"population\", \"continent_name\",'country_name','Air_Quality_Index','Carbon_Monoxide','Nitrogen_dioxide','Ozone','Fine_Particles_matter','Coarse_particulate_Matter','temperature','humidity', 'pressure', 'wind_speed', 'wind_deg')]\n",
    "groupByContinentDf=groupByContinentDf.groupby(['continent_name']).mean().reset_index()\n",
    "groupByContinentDf"
   ]
  },
  {
   "cell_type": "markdown",
   "metadata": {},
   "source": [
    "## Does high temperature lead to degradation in the quality of Air?"
   ]
  },
  {
   "cell_type": "code",
   "execution_count": null,
   "metadata": {},
   "outputs": [],
   "source": [
    "graphPlot = sns.jointplot(x='temperature',y='Air_Quality_Index',color=\"#7772c0\",data=resultantDf,kind='hex')\n",
    "graphPlot.fig.suptitle(\"Air Quality Index vs Temperature Plot\", fontsize=20)\n",
    "graphPlot.fig.tight_layout()\n",
    "graphPlot.fig.subplots_adjust(top=0.90)\n",
    "graphPlot.fig.set_size_inches(10, 10)\n"
   ]
  },
  {
   "cell_type": "markdown",
   "metadata": {},
   "source": [
    "## What is the most common temperature range based on observed average temperature of all cities?"
   ]
  },
  {
   "cell_type": "code",
   "execution_count": null,
   "metadata": {},
   "outputs": [],
   "source": [
    "graphPlot = sns.distplot(resultantDf['temperature'],kde=True,bins=30, color='#9a73dd')\n",
    "graphPlot.set_title(\"Temperature Distribution\", fontsize=20)"
   ]
  },
  {
   "cell_type": "markdown",
   "metadata": {},
   "source": [
    "## Ozone Distribution"
   ]
  },
  {
   "cell_type": "code",
   "execution_count": null,
   "metadata": {},
   "outputs": [],
   "source": [
    "sns.distplot(resultantDf['Ozone'], bins=30, color='#db5b1f').set_title(\"Ozone Distribution\", fontsize=20)"
   ]
  },
  {
   "cell_type": "markdown",
   "metadata": {},
   "source": [
    "## Co-relation between Fine_Particles_matter vs Coarse_particulate_Matter vs Humidity vs Dew Point"
   ]
  },
  {
   "cell_type": "code",
   "execution_count": null,
   "metadata": {},
   "outputs": [],
   "source": [
    "graphPlot = sns.pairplot(resultantDf[['Fine_Particles_matter', 'Coarse_particulate_Matter', 'humidity', 'dew_point']])\n",
    "graphPlot.fig.suptitle(\"Fine_Particles_matter vs Coarse_particulate_Matter vs Humidity vs Dew Point\",  fontsize=20)\n",
    "graphPlot.fig.tight_layout()\n",
    "graphPlot.fig.subplots_adjust(top=0.95)"
   ]
  },
  {
   "attachments": {},
   "cell_type": "markdown",
   "metadata": {},
   "source": [
    "## Which weather type is most common for each continent?"
   ]
  },
  {
   "cell_type": "code",
   "execution_count": null,
   "metadata": {},
   "outputs": [],
   "source": [
    "graphPlot = sns.catplot(x=\"weather_title\", hue=\"continent_name\",\n",
    "                data=resultantDf, kind=\"count\");\n",
    "graphPlot.fig.suptitle(\"Types Of Weather Across Continents\", fontsize=20)\n",
    "graphPlot.fig.tight_layout()\n",
    "graphPlot.fig.subplots_adjust(top=0.95)\n",
    "graphPlot.fig.set_size_inches(12,12)\n",
    "handles = g._legend_data.values()\n",
    "labels = g._legend_data.keys()\n",
    "g.fig.legend(handles=handles, labels=labels, loc='upper left', ncol=3)\n",
    "g.fig.subplots_adjust(top=0.92, bottom=0.08)"
   ]
  },
  {
   "attachments": {},
   "cell_type": "markdown",
   "metadata": {},
   "source": [
    "## What is the effect of temperature on overall weather of a continent?"
   ]
  },
  {
   "cell_type": "code",
   "execution_count": null,
   "metadata": {},
   "outputs": [],
   "source": [
    "sns.set(rc={'figure.figsize':(11.7,8.27)})\n",
    "\n",
    "graphPlot = sns.violinplot(x=\"continent_name\", y=\"temperature\", data=resultantDf,hue='weather_title',palette='Set1')\n",
    "graphPlot.set_title(\"Temperature Range Across Continents Labelled By Weather Types\", fontsize=20)\n"
   ]
  },
  {
   "cell_type": "code",
   "execution_count": null,
   "metadata": {},
   "outputs": [],
   "source": [
    "\n",
    "sns.set(rc={'figure.figsize':(11.7,8.27)})\n",
    "graphPlot = sns.barplot(x='pressure',y='Air_Quality_Index',data=groupByCountryDf)\n",
    "graphPlot.set_title(\"Co-relation Of Pressure & Air Quality Index\", fontsize=20)"
   ]
  },
  {
   "cell_type": "code",
   "execution_count": null,
   "metadata": {},
   "outputs": [],
   "source": [
    "data = dict(\n",
    "        type = 'choropleth',\n",
    "        colorscale = 'aggrnyl',\n",
    "        locations = resultantDf['country_code'],\n",
    "        z = resultantDf['population'],\n",
    "        text = resultantDf['country_name'],\n",
    "        colorbar = {'title' : 'GDP Billions US'},\n",
    "      ) "
   ]
  },
  {
   "cell_type": "code",
   "execution_count": null,
   "metadata": {},
   "outputs": [],
   "source": [
    "def findCountry (country_name):\n",
    "    try:\n",
    "        return pycountry.countries.get(name=country_name).alpha_3\n",
    "    except:\n",
    "        return (\"not founded\")\n"
   ]
  },
  {
   "cell_type": "code",
   "execution_count": null,
   "metadata": {},
   "outputs": [],
   "source": [
    "def parseCountryCodeInCountryDf():\n",
    "    resultantDf['country_alpha_3'] = resultantDf.apply(lambda row: findCountry(row.country_name) , axis = 1);\n",
    "parseCountryCodeInCountryDf()"
   ]
  },
  {
   "cell_type": "markdown",
   "metadata": {},
   "source": [
    "## What is the most common temperature range based on observed average temperature of all cities?"
   ]
  },
  {
   "cell_type": "code",
   "execution_count": null,
   "metadata": {},
   "outputs": [],
   "source": [
    "fig = go.Figure(data=go.Choropleth(\n",
    "    locations = resultantDf['country_alpha_3'],\n",
    "    z = resultantDf['temperature'],\n",
    "    text = resultantDf['country_name'],\n",
    "    colorscale = 'tealrose',\n",
    "    autocolorscale=False,\n",
    "    reversescale=True,\n",
    "    marker_line_color='darkgray',\n",
    "    marker_line_width=0.5,\n",
    "    colorbar_tickprefix = '',\n",
    "    colorbar_title = 'Temperature<br> in deg celsius',\n",
    "))\n",
    "\n",
    "fig.update_layout(\n",
    "    title_text='Temperature Distribution',\n",
    "    geo=dict(\n",
    "        showframe=False,\n",
    "        showcoastlines=False,\n",
    "        projection_type='equirectangular'\n",
    "    ),\n",
    "    annotations = [dict(\n",
    "        x=0.55,\n",
    "        y=0.1,\n",
    "        xref='paper',\n",
    "        yref='paper',\n",
    "        text='Temperature spread',\n",
    "        showarrow = False\n",
    "    )]\n",
    ")\n",
    "\n",
    "fig.show()"
   ]
  }
 ],
 "metadata": {
  "kernelspec": {
   "display_name": "Python 3",
   "language": "python",
   "name": "python3"
  },
  "language_info": {
   "codemirror_mode": {
    "name": "ipython",
    "version": 3
   },
   "file_extension": ".py",
   "mimetype": "text/x-python",
   "name": "python",
   "nbconvert_exporter": "python",
   "pygments_lexer": "ipython3",
   "version": "3.8.5"
  }
 },
 "nbformat": 4,
 "nbformat_minor": 4
}
