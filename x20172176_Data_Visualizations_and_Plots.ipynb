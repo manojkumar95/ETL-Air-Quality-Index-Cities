{
 "cells": [
  {
   "cell_type": "code",
   "execution_count": null,
   "metadata": {},
   "outputs": [],
   "source": [
    "import pandas as pd\n",
    "import seaborn as sns\n",
    "import matplotlib.pyplot as plot\n",
    "import matplotlib\n",
    "import chart_studio.plotly as py\n",
    "import plotly.graph_objs as go \n",
    "from plotly.offline import download_plotlyjs, init_notebook_mode, plot, iplot\n",
    "import pycountry\n",
    "import plotly.graph_objects as go"
   ]
  },
  {
   "cell_type": "code",
   "execution_count": null,
   "metadata": {},
   "outputs": [],
   "source": [
    "def getDataFrameFromTable(tableName):\n",
    "    df = pd.DataFrame()\n",
    "    connection=None\n",
    "    try:\n",
    "        # Create an engine instance\n",
    "        engine = postgresEngine\n",
    "        # Connect to PostgreSQL server\n",
    "        connection = engine.connect()\n",
    "        df= pd.read_sql(\"select * from \\\"\"+tableName+\"\\\" \", connection);\n",
    "    except Exception as e:\n",
    "        print('Exception in createDataFramefromTbl----->\\n',e)\n",
    "    finally:\n",
    "        if connection is not None:\n",
    "            connection.close()\n",
    "    return df"
   ]
  },
  {
   "cell_type": "code",
   "execution_count": null,
   "metadata": {},
   "outputs": [],
   "source": [
    "resultantDf = getDataFrameFromTable(resultantTableName)"
   ]
  },
  {
   "cell_type": "code",
   "execution_count": null,
   "metadata": {},
   "outputs": [],
   "source": [
    "resultantDf"
   ]
  },
  {
   "cell_type": "code",
   "execution_count": null,
   "metadata": {},
   "outputs": [],
   "source": [
    "groupByCountryDf = resultantDf.loc[:,(\"population\", \"continent_name\",'country_name','Air_Quality_Index','Carbon_Monoxide','Nitrogen_dioxide','Ozone','Fine_Particles_matter','Coarse_particulate_Matter','temperature','humidity', 'pressure')]\n",
    "groupByCountryDf=groupByCountryDf.groupby(['country_name']).mean().reset_index()\n",
    "groupByCountryDf"
   ]
  },
  {
   "cell_type": "code",
   "execution_count": null,
   "metadata": {},
   "outputs": [],
   "source": [
    "groupByContinentDf = resultantDf.loc[:,(\"population\", \"continent_name\",'country_name','Air_Quality_Index','Carbon_Monoxide','Nitrogen_dioxide','Ozone','Fine_Particles_matter','Coarse_particulate_Matter','temperature','humidity', 'pressure', 'wind_speed', 'wind_deg')]\n",
    "groupByContinentDf=groupByContinentDf.groupby(['continent_name']).mean().reset_index()\n",
    "groupByContinentDf"
   ]
  },
  {
   "cell_type": "code",
   "execution_count": null,
   "metadata": {},
   "outputs": [],
   "source": [
    "data = dict(\n",
    "        type = 'choropleth',\n",
    "        colorscale = 'aggrnyl',\n",
    "        locations = resultantDf['country_code'],\n",
    "        z = resultantDf['population'],\n",
    "        text = resultantDf['country_name'],\n",
    "        colorbar = {'title' : 'GDP Billions US'},\n",
    "      ) "
   ]
  },
  {
   "cell_type": "code",
   "execution_count": null,
   "metadata": {},
   "outputs": [],
   "source": [
    "def findCountry (country_name):\n",
    "    try:\n",
    "        return pycountry.countries.get(name=country_name).alpha_3\n",
    "    except:\n",
    "        return (\"not founded\")\n"
   ]
  },
  {
   "cell_type": "code",
   "execution_count": null,
   "metadata": {},
   "outputs": [],
   "source": [
    "def parseCountryCodeInCountryDf():\n",
    "    resultantDf['country_alpha_3'] = resultantDf.apply(lambda row: findCountry(row.country_name) , axis = 1);\n",
    "parseCountryCodeInCountryDf()"
   ]
  },
  {
   "cell_type": "markdown",
   "metadata": {},
   "source": [
    "## Which country in Europe has the highest density of population?"
   ]
  },
  {
   "cell_type": "code",
   "execution_count": null,
   "metadata": {},
   "outputs": [],
   "source": [
    "fig = go.Figure(data=go.Choropleth(\n",
    "    locations = resultantDf['country_alpha_3'],\n",
    "    z = resultantDf['population'],\n",
    "    text = resultantDf['country_name'],\n",
    "    colorscale = 'Blues',\n",
    "    autocolorscale=False,\n",
    "    reversescale=True,\n",
    "    marker_line_color='darkgray',\n",
    "    marker_line_width=0.5,\n",
    "    colorbar_tickprefix = '',\n",
    "    colorbar_title = 'In<br>Millions',\n",
    "    zmin=5,\n",
    "    zmax=1000000\n",
    "))\n",
    "\n",
    "fig.update_layout(\n",
    "    title_text='Population Distribution',\n",
    "    geo=dict(\n",
    "        showframe=False,\n",
    "        showcoastlines=False,\n",
    "        projection_type='equirectangular'\n",
    "    ),\n",
    "    annotations = [dict(\n",
    "        x=0.55,\n",
    "        y=0.1,\n",
    "        xref='paper',\n",
    "        yref='paper',\n",
    "        text='Population density across the world',\n",
    "        showarrow = False\n",
    "    )]\n",
    ")\n",
    "\n",
    "fig.show()"
   ]
  },
  {
   "attachments": {},
   "cell_type": "markdown",
   "metadata": {},
   "source": [
    "## Will decreased levels of Ozone lead to increase in temperature? "
   ]
  },
  {
   "cell_type": "code",
   "execution_count": null,
   "metadata": {},
   "outputs": [],
   "source": [
    "graphPlot = sns.jointplot(x='Ozone',y='temperature',data=resultantDf,kind='scatter',color='#32c8cd')\n",
    "graphPlot.fig.suptitle(\"Ozone vs Temperature Plot\")\n",
    "graphPlot.fig.tight_layout()\n",
    "graphPlot.fig.subplots_adjust(top=0.90)\n",
    "graphPlot.fig.set_size_inches(10,10)\n"
   ]
  },
  {
   "attachments": {},
   "cell_type": "markdown",
   "metadata": {},
   "source": [
    "## Which countries have very low ozone levels?"
   ]
  },
  {
   "cell_type": "code",
   "execution_count": null,
   "metadata": {},
   "outputs": [],
   "source": [
    "fig = go.Figure(data=go.Choropleth(\n",
    "    locations = resultantDf['country_alpha_3'],\n",
    "    z = resultantDf['Ozone'],\n",
    "    text = resultantDf['country_name'],\n",
    "    colorscale = 'magma',\n",
    "    autocolorscale=False,\n",
    "    reversescale=True,\n",
    "    marker_line_color='darkgray',\n",
    "    marker_line_width=0.5,\n",
    "    colorbar_tickprefix = '',\n",
    "    colorbar_title = 'Ozone<br> in sqcm',\n",
    "))\n",
    "\n",
    "fig.update_layout(\n",
    "    title_text='Ozone Distribution',\n",
    "    geo=dict(\n",
    "        showframe=False,\n",
    "        showcoastlines=False,\n",
    "        projection_type='equirectangular'\n",
    "    ),\n",
    "    annotations = [dict(\n",
    "        x=0.55,\n",
    "        y=0.1,\n",
    "        xref='paper',\n",
    "        yref='paper',\n",
    "        text='Ozone spread',\n",
    "        showarrow = False\n",
    "    )]\n",
    ")\n",
    "\n",
    "fig.show()"
   ]
  },
  {
   "attachments": {},
   "cell_type": "markdown",
   "metadata": {},
   "source": [
    "## Is the quality of Air influenced by population and temperature?"
   ]
  },
  {
   "cell_type": "code",
   "execution_count": null,
   "metadata": {},
   "outputs": [],
   "source": [
    "top_cities_population = resultantDf.sort_values('population',ascending=False)\n",
    "#Top 10 cities with highest population\n",
    "population_max=top_cities_population.head(n=10)\n",
    "#10 least population cities\n",
    "population_min=top_cities_population.tail(n=10)\n",
    "population_min_max=pd.concat([population_max,population_min],ignore_index=False)\n",
    "#PairPlot for correlation between Population,Air Quality & temperature\n",
    "g= sns.pairplot(population_min_max,vars=['population','Air_Quality_Index','temperature'],hue='city_name')\n",
    "g.fig.suptitle(\"Correlation between Population,Air_Quality_index and Temperature\", fontsize =20)\n",
    "\n",
    "g.fig.subplots_adjust(top=0.90)\n",
    "\n",
    "# handles = g._legend_data.values()\n",
    "# labels = g._legend_data.keys()\n",
    "# g.fig.legend(handles=handles, labels=labels, loc='upper left', ncol=3)\n",
    "# g.fig.subplots_adjust(top=0.92, bottom=0.08)"
   ]
  }
 ],
 "metadata": {
  "kernelspec": {
   "display_name": "Python 3",
   "language": "python",
   "name": "python3"
  },
  "language_info": {
   "codemirror_mode": {
    "name": "ipython",
    "version": 3
   },
   "file_extension": ".py",
   "mimetype": "text/x-python",
   "name": "python",
   "nbconvert_exporter": "python",
   "pygments_lexer": "ipython3",
   "version": "3.8.5"
  }
 },
 "nbformat": 4,
 "nbformat_minor": 4
}
