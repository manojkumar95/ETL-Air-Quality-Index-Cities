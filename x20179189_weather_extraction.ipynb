{
 "cells": [
  {
   "cell_type": "markdown",
   "metadata": {},
   "source": [
    "## Dataset 2: Extract weather dataset from open weather map API using asynchronous processing, load the data into mongo db and perform pre-processing, cleansing and transformation and load the structured data into postgresql\n",
    "\n",
    "### @Author: Manoj\n",
    "### @Student Id: x20179189\n"
   ]
  },
  {
   "cell_type": "markdown",
   "metadata": {},
   "source": [
    "# Import variables for the data"
   ]
  },
  {
   "cell_type": "code",
   "execution_count": 16,
   "metadata": {},
   "outputs": [],
   "source": [
    "# import variables\n",
    "import json\n",
    "import urllib\n",
    "import requests\n",
    "import pymongo\n",
    "import pprint\n",
    "import pandas as pd\n",
    "from pandas import json_normalize\n",
    "from requests import ConnectionError\n",
    "import json\n",
    "import os\n",
    "import time\n",
    "import aiohttp\n",
    "import asyncio\n",
    "import time\n",
    "import datetime\n",
    "from sqlalchemy import create_engine\n",
    "import sqlalchemy\n",
    "from waiting import wait\n",
    "weatherDf = pd.DataFrame()"
   ]
  },
  {
   "cell_type": "markdown",
   "metadata": {},
   "source": [
    "# Extract data from open weather map api only if collection does not exist in mongo"
   ]
  },
  {
   "cell_type": "code",
   "execution_count": 17,
   "metadata": {},
   "outputs": [],
   "source": [
    "def checkIfCollectionExists(mongodb, weatherCollectionName):\n",
    "    exist_col = mongodb.list_collection_names()\n",
    "    col_exists = False\n",
    "    if weatherCollectionName in exist_col:\n",
    "        col_exists = True\n",
    "    return col_exists"
   ]
  },
  {
   "cell_type": "code",
   "execution_count": 19,
   "metadata": {},
   "outputs": [],
   "source": [
    "def dropCollectionIfExists(mongodb, weatherCollectionName):\n",
    "    exist_col = mongodb.list_collection_names()\n",
    "    if weatherCollectionName in exist_col:\n",
    "        new_col = mongodb[weatherCollectionName]\n",
    "        new_col.drop()"
   ]
  },
  {
   "cell_type": "markdown",
   "metadata": {},
   "source": [
    "# Read the city dataset from mongodb and use the latitude & longitude of each city to get the forecasted weather and fetch the forecasted weather asynchronously and insert the values to weather collectin in mongodb"
   ]
  },
  {
   "cell_type": "code",
   "execution_count": 20,
   "metadata": {},
   "outputs": [],
   "source": [
    "# makes api calls to open weather map api to fetch forecasted weather details\n",
    "async def get_weather_data(session, url):\n",
    "    currentTime = datetime.datetime.now()\n",
    "    weatherData = {}\n",
    " \n",
    "    try:\n",
    "        async with session.get(url) as resp:\n",
    "            weatherData = await resp.json()\n",
    "\n",
    "    except aiohttp.ClientConnectionError:\n",
    "        print(\"connection error\")\n",
    "        session.close()\n",
    "        await asyncio.sleep(20)\n",
    "        session = aiohttp.ClientSession()\n",
    "\n",
    "        async with session.get(url) as resp:\n",
    "            weatherData = await resp.json()\n",
    "    except aiohttp.ClientError:\n",
    "        print(\"connection error\")\n",
    "        session.close()\n",
    "        await asyncio.sleep(20)\n",
    "        session = aiohttp.ClientSession()\n",
    "\n",
    "        async with session.get(url) as resp:\n",
    "            weatherData = await resp.json()\n",
    "    except aiohttp.ClientPayloadError:\n",
    "        print(\"payload error\")\n",
    "        session.close()\n",
    "        await asyncio.sleep(20)\n",
    "        session = aiohttp.ClientSession()\n",
    "        async with session.get(url) as resp:\n",
    "            weatherData = await resp.json()\n",
    "    except requests.Timeout as err:\n",
    "        print(\"payload error\")\n",
    "        session.close()\n",
    "        await asyncio.sleep(20)\n",
    "        session = aiohttp.ClientSession()\n",
    "        async with session.get(url) as resp:\n",
    "            weatherData = await resp.json()\n",
    "    except requests.RequestException as err:\n",
    "        print(\"payload error\")\n",
    "        await asyncio.sleep(20)\n",
    "        session.close()\n",
    "\n",
    "        session = aiohttp.ClientSession()\n",
    "\n",
    "        async with session.get(url) as resp:\n",
    "            weatherData = await resp.json()\n",
    "    except (aiohttp.ClientResponseError,\n",
    "                aiohttp.ClientOSError,\n",
    "                aiohttp.client.ClientSession) as exc:\n",
    "        session.close()\n",
    "\n",
    "        await asyncio.sleep(20)\n",
    "        session = aiohttp.ClientSession()\n",
    "        async with session.get(url) as resp:\n",
    "            weatherData = await resp.json()\n",
    "        print(\"server disconnected error\")\n",
    "    except:\n",
    "        await asyncio.sleep(20)\n",
    "        session.close()\n",
    "        session = aiohttp.ClientSession()\n",
    "        async with session.get(url) as resp:\n",
    "            weatherData = await resp.json()\n",
    "        print(\"server disconnected error\")\n",
    "    # handle other errors\n",
    "    return weatherData\n",
    "\n",
    "\n",
    "# fetches forecasted weather data for cities from get_weather_data method\n",
    "# and inserts the records into mongodb\n",
    "async def save_weather_data(session, dynamicUrl, cityId, weatherCollection, connection_timeout):\n",
    "    try:\n",
    "        current_req_start_time = time.time()\n",
    "        weatherData = await get_weather_data(session, dynamicUrl)\n",
    "        weatherData['cityId'] = cityId\n",
    "        x = weatherCollection.insert_one(weatherData)\n",
    "    except ConnectionError:\n",
    "        if time.time() > current_req_start_time + connection_timeout:\n",
    "            raise Exception('Unable to get updates after {} seconds of ConnectionErrors'.format(connection_timeout))\n",
    "        else:\n",
    "            await asyncio.sleep(5)\n",
    "    except OSError as error : \n",
    "        if time.time() > current_req_start_time + connection_timeout:\n",
    "            raise Exception('Unable to get updates after {} seconds of ConnectionErrors'.format(connection_timeout))\n",
    "        else:\n",
    "            await asyncio.sleep(5)\n",
    "    return weatherData\n",
    "\n",
    "# sets up asynchronous processing and makes use of multiple api keys\n",
    "# to make api calls parallely without waiting for the api responses in sequence\n",
    "async def extract_weather_data(session, apiKeys, cities, weatherMapUrl, weatherCollection, connection_timeout):\n",
    "    sem = asyncio.Semaphore(5)\n",
    "    initialCount = 0\n",
    "    session = aiohttp.ClientSession()\n",
    "    async with sem:\n",
    "        startTime = datetime.datetime.now()\n",
    "        async with session:\n",
    "            tasks = []\n",
    "            for city in cities.find():\n",
    "                apiKey = apiKeys[initialCount % 3]\n",
    "                initialCount += 1 \n",
    "                dynamicUrl = weatherMapUrl.format(latitude = city['location']['latitude'], longitude = city['location']['longitude'], apiKey = apiKey)\n",
    "                tasks.append(asyncio.ensure_future(save_weather_data(session, dynamicUrl, city['cityId'], weatherCollection, connection_timeout)))\n",
    "            await asyncio.gather(*tasks)"
   ]
  },
  {
   "cell_type": "markdown",
   "metadata": {},
   "source": [
    "# Return list of weathers containing forecasted weather data for each city"
   ]
  },
  {
   "cell_type": "code",
   "execution_count": 11,
   "metadata": {},
   "outputs": [],
   "source": [
    "def fetchWeatherCollectionAsList(weatherCollection): \n",
    "    return list(weatherCollection.find({}))"
   ]
  },
  {
   "cell_type": "markdown",
   "metadata": {},
   "source": [
    "# Iterate the parent weather json over a pandas dataframe to normalize an nested array containing forecasted weather of each day and slice results for only the first 5 forecasted days and drop unwanted columns"
   ]
  },
  {
   "cell_type": "code",
   "execution_count": null,
   "metadata": {},
   "outputs": [],
   "source": [
    "def preprocessingData(weathersOfCities, initialWeatherDf):\n",
    "    global weatherDf\n",
    "    for weather in weathersOfCities:\n",
    "        normalized_daily_array = json_normalize(weather['daily'])\n",
    "        normalized_daily_array = normalized_daily_array.explode('weather')\n",
    "        for index, j in normalized_daily_array.iterrows():\n",
    "            if index > 4:\n",
    "                break\n",
    "            new_frame = json_normalize(j['weather'])\n",
    "            new_frame = new_frame.iloc[0]\n",
    "            j['id'] = j['weather']['id']\n",
    "            j['main'] = j['weather']['main']\n",
    "            j['icon'] = j['weather']['icon']\n",
    "            j['description'] = j['weather']['description']\n",
    "            j['temp'] = j['temp.day']\n",
    "            j['feels_like'] = j['feels_like.day']\n",
    "            j['latitude'] = weather['lat']\n",
    "            j['longitude'] = weather['lon']\n",
    "            j['cityId'] = weather['cityId']\n",
    "            j.drop(['weather', 'feels_like.day', 'feels_like.night', 'feels_like.eve', 'feels_like.morn', 'moon_phase', 'moonset', 'moonrise', 'temp.day', 'temp.night', 'temp.eve','temp.morn', 'temp.min', 'temp.max'], inplace=True)\n",
    "            j[\"date\"] = datetime.date.fromtimestamp(j['dt']).isoformat()\n",
    "            initialWeatherDf = initialWeatherDf.append(j, ignore_index=True)\n",
    "        normalize_value_1 = json_normalize(weather)\n",
    "        normalize_value1 = normalize_value_1.loc[:,['cityId', 'lat','lon']]\n",
    "    weatherDf = initialWeatherDf\n",
    "    return weatherDf\n",
    "                                              \n"
   ]
  },
  {
   "cell_type": "markdown",
   "metadata": {},
   "source": [
    "# Describe the info about the transformed pandas dataframe and fill null values for rain and snow with zero & convert temparature from kelvin into degree celsius"
   ]
  },
  {
   "cell_type": "code",
   "execution_count": 1,
   "metadata": {},
   "outputs": [],
   "source": [
    "def performDataCleaning(weatherDataframe):\n",
    "    global weatherDf\n",
    "    weatherDataframe.shape\n",
    "    weatherDataframe.dtypes\n",
    "    weatherDataframe.describe()\n",
    "    weatherDataframe.info()\n",
    "    weatherDataframe.isnull().sum()\n",
    "    weatherDataframe.nunique()\n",
    "    weatherDataframe.duplicated()\n",
    "    \n",
    "    weatherDataframe['rain'] = weatherDf['rain'].fillna(0)\n",
    "    weatherDataframe['snow'] = weatherDf['snow'].fillna(0)\n",
    "    weatherDataframe['dew_point'] = weatherDf['dew_point'].fillna(0)\n",
    "    weatherDataframe['pop'] = weatherDf['pop'].fillna(0)\n",
    "    weatherDataframe['temp'] = weatherDataframe['temp'] - 273\n",
    "\n",
    "    weatherDf = weatherDataframe\n",
    "    return weatherDf\n",
    "    "
   ]
  },
  {
   "cell_type": "markdown",
   "metadata": {},
   "source": [
    "# Drop unwanted columns in transformed weather dataframe and rename the columns in the dataframe"
   ]
  },
  {
   "cell_type": "code",
   "execution_count": 4,
   "metadata": {},
   "outputs": [],
   "source": [
    "def dropAndRenameColumnsWeatherDf(weatherDataframe):\n",
    "    global weatherDf\n",
    "\n",
    "    a = weatherDataframe.head()\n",
    "    dropColumns = []\n",
    "    columnNames = ['wind_gust', 'icon', 'visibility']\n",
    "    for name in columnNames:\n",
    "        if name in weatherDataframe.columns:\n",
    "            dropColumns.append(name)\n",
    "    print('dropColumns', dropColumns)\n",
    "    weatherDataframe.drop(dropColumns, axis=1, inplace= True)\n",
    "    weatherDataframe.rename(columns={'id': 'weather_code', 'main': 'weather_title', 'description':'weather_desc', 'cityId': 'city_id', 'dt': 'date_timestamp', 'temp': 'temperature'}, inplace=True)\n",
    "    weatherDf = weatherDataframe\n",
    "    return weatherDf\n"
   ]
  },
  {
   "cell_type": "markdown",
   "metadata": {},
   "source": [
    "# Convert the values in the dataframe to appropriate datatypes such as int, float and date and split the month, year and day as separate columns"
   ]
  },
  {
   "cell_type": "code",
   "execution_count": 3,
   "metadata": {},
   "outputs": [],
   "source": [
    "def convertWeatherDfDataTypes(weatherDataframe):\n",
    "    global weatherDf\n",
    "    if weatherDataframe.empty != True:\n",
    "        weatherDataframe['date'] = pd.to_datetime(weatherDataframe['date'])\n",
    "        weatherDataframe['city_id'] = weatherDataframe['city_id'].astype('int64')\n",
    "        weatherDataframe['weather_code'] = weatherDataframe['weather_code'].astype('int64')\n",
    "        weatherDataframe['latitude'] = weatherDataframe['weather_code'].astype(float)\n",
    "        weatherDataframe['longitude'] = weatherDataframe['longitude'].astype(float)\n",
    "        weatherDataframe['wind_deg'] = weatherDataframe['wind_deg'].astype(float)\n",
    "        weatherDataframe['wind_speed'] = weatherDataframe['wind_speed'].astype(float)\n",
    "        weatherDataframe['clouds'] = weatherDataframe['clouds'].astype(float)\n",
    "        weatherDataframe['uvi'] = weatherDataframe['uvi'].astype(float)\n",
    "        weatherDataframe['dew_point'] = weatherDataframe['dew_point'].astype(float)\n",
    "        weatherDataframe['humidity'] = weatherDataframe['humidity'].astype(float)\n",
    "        weatherDataframe['pressure'] = weatherDataframe['pressure'].astype(float)\n",
    "        weatherDataframe['feels_like'] = weatherDataframe['feels_like'].astype(float)\n",
    "        weatherDataframe['temperature'] = weatherDataframe['temperature'].astype(float)\n",
    "        weatherDataframe['sunset'] = weatherDataframe['sunset'].astype('int64')\n",
    "        weatherDataframe['sunrise'] = weatherDataframe['sunrise'].astype('int64')\n",
    "        weatherDataframe['date_timestamp'] = weatherDataframe['date_timestamp'].astype('int64')\n",
    "            \n",
    "        weatherDataframe['year'] = weatherDf['date'].dt.year\n",
    "        weatherDataframe['month'] = weatherDf['date'].dt.month\n",
    "        weatherDataframe['day'] = weatherDf['date'].dt.day\n",
    "        weatherDataframe['date']= weatherDataframe['date'].dt.strftime('%Y-%m-%d')\n",
    "\n",
    "        weatherDf = weatherDataframe\n",
    "        return weatherDf"
   ]
  },
  {
   "cell_type": "markdown",
   "metadata": {},
   "source": [
    "# Upload the final weather dataframe to postgres database"
   ]
  },
  {
   "cell_type": "code",
   "execution_count": 22,
   "metadata": {},
   "outputs": [],
   "source": [
    "def uploadWeatherDataToPostgres(postgresClient, weatherDf, collectionName):\n",
    "    try:\n",
    "        weatherDf.to_sql(collectionName, postgresClient,if_exists='replace',method='multi')\n",
    "    except Exception as e:\n",
    "        print(\"Error: \",e)\n"
   ]
  },
  {
   "cell_type": "markdown",
   "metadata": {},
   "source": [
    "# Main method of this file encompassing method calls to all other methods in this file"
   ]
  },
  {
   "cell_type": "code",
   "execution_count": 23,
   "metadata": {},
   "outputs": [],
   "source": [
    "async def weather_main(postgresClient, mongoClient, isWeatherCollectionExists):\n",
    "    # starting point of execution for this notebook\n",
    "    # this method encompasses calls to all other methods wihtin this notebook\n",
    "    try:\n",
    "        db = mongoClient[databaseName]\n",
    "        cities = db[cityTableName]\n",
    "        weatherCollection = db[weatherTableName]\n",
    "        collectionName = weatherTableName\n",
    "        weatherMapUrl = \"https://api.openweathermap.org/data/2.5/onecall?lat={latitude}&lon={longitude}&exclude=minutely,hourly&appid={apiKey}\"\n",
    "        connection_timeout = 30 # seconds\n",
    "        count = 0\n",
    "        start_time = time.time()\n",
    "        initialCount = 0\n",
    "        START_TIME = datetime.datetime.now()\n",
    "        start_time = time.time()\n",
    "        apiKeys = ['4060c67d06c701fa7b6fb2c075ce7b3a','f7b57c204082040afc460167c2a07941', '3af487e9bfe75ef34b67965653063c47']\n",
    "\n",
    "\n",
    "        if isWeatherCollectionExists == False:\n",
    "    #     dropCollectionIfExists(db, collectionName)\n",
    "            await extract_weather_data(apiKeys, cities, weatherMapUrl, weatherCollection, connection_timeout)\n",
    "            print('Extracted weather data from mongo ----')\n",
    "        global weatherDf\n",
    "        weathersOfCities = fetchWeatherCollectionAsList(weatherCollection)\n",
    "        print('Fetched weathers of cities --')\n",
    "\n",
    "        finalWeatherDf = pd.DataFrame(weathersOfCities)\n",
    "        weatherDf = finalWeatherDf\n",
    "        processedWeatherDf = preprocessingData(weathersOfCities, pd.DataFrame())\n",
    "        print('Processed weather dataframe ----')\n",
    "\n",
    "        finalWeatherDf = performDataCleaning(processedWeatherDf)\n",
    "        transformedWeatherDf = dropAndRenameColumnsWeatherDf(finalWeatherDf)\n",
    "        convertedWeatherDf = convertWeatherDfDataTypes(transformedWeatherDf)\n",
    "        uploadWeatherDataToPostgres(postgresClient, convertedWeatherDf, weatherTableName)\n",
    "        print('weather data processing done')\n",
    "    except Exception as error:\n",
    "        print('Error while processing weather dataframe')\n"
   ]
  }
 ],
 "metadata": {
  "kernelspec": {
   "display_name": "Python 3",
   "language": "python",
   "name": "python3"
  },
  "language_info": {
   "codemirror_mode": {
    "name": "ipython",
    "version": 3
   },
   "file_extension": ".py",
   "mimetype": "text/x-python",
   "name": "python",
   "nbconvert_exporter": "python",
   "pygments_lexer": "ipython3",
   "version": "3.8.5"
  }
 },
 "nbformat": 4,
 "nbformat_minor": 4
}
